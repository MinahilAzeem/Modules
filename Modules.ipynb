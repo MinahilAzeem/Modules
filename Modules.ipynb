{
  "nbformat": 4,
  "nbformat_minor": 0,
  "metadata": {
    "colab": {
      "provenance": []
    },
    "kernelspec": {
      "name": "python3",
      "display_name": "Python 3"
    },
    "language_info": {
      "name": "python"
    }
  },
  "cells": [
    {
      "cell_type": "markdown",
      "source": [
        "# **Module**"
      ],
      "metadata": {
        "id": "0LlT2ffj176k"
      }
    },
    {
      "cell_type": "markdown",
      "source": [
        " A **module** is a file containing Python  definitions and statements, all files in module have .py suffix.\n",
        "A file containing sets of functions and classes we want to import or include in our project is called a module."
      ],
      "metadata": {
        "id": "BVPSzicm2AFz"
      }
    },
    {
      "cell_type": "markdown",
      "source": [
        "we can create our own module in python for specific purpose.\n",
        "we make file with .py extension and then write our code then save it as .py file."
      ],
      "metadata": {
        "id": "MuLabeIV227L"
      }
    },
    {
      "cell_type": "markdown",
      "source": [
        "We can use our module by using **import statement** in another file and call our module function or class in it. for example. if we have created our module with name addition.py then we create anither file in the same folder with name sum.py then I will import addition module in sum.py file and use its function addition.sum(12,23) to execute this statement."
      ],
      "metadata": {
        "id": "Cj-muv893HJJ"
      }
    },
    {
      "cell_type": "markdown",
      "source": [
        " We can change the module name by changing its name using **as** keyword"
      ],
      "metadata": {
        "id": "vf7uQM0h4N1z"
      }
    },
    {
      "cell_type": "markdown",
      "source": [
        " **from module import sub**   this is only for calling one function from module"
      ],
      "metadata": {
        "id": "bAve4rna6r7E"
      }
    },
    {
      "cell_type": "markdown",
      "source": [
        "from module import*  this is for calling all the functions from module"
      ],
      "metadata": {
        "id": "SOCFM6nm60AK"
      }
    },
    {
      "cell_type": "markdown",
      "source": [
        "# **Built-in Modules**"
      ],
      "metadata": {
        "id": "Apgk1FCO4kEs"
      }
    },
    {
      "cell_type": "markdown",
      "source": [
        "Importing built-in modules is very easy."
      ],
      "metadata": {
        "id": "jOMryjw34mTx"
      }
    },
    {
      "cell_type": "markdown",
      "source": [
        "platform module is used to get the name of the operating system. As shown below my operating system is windows and linux."
      ],
      "metadata": {
        "id": "pXGhLwnB4-VT"
      }
    },
    {
      "cell_type": "code",
      "source": [
        "import platform\n",
        "a = platform.system()\n",
        "print(a)"
      ],
      "metadata": {
        "colab": {
          "base_uri": "https://localhost:8080/"
        },
        "id": "JfOVa-8o19pA",
        "outputId": "034cb826-0445-4ffe-d4ae-edb526e07ce7"
      },
      "execution_count": 2,
      "outputs": [
        {
          "output_type": "stream",
          "name": "stdout",
          "text": [
            "Linux\n"
          ]
        }
      ]
    },
    {
      "cell_type": "markdown",
      "source": [
        "# **Dir() Function is used to get the list of all the files and folders in a directory.**"
      ],
      "metadata": {
        "id": "LeaeKnne5bWS"
      }
    },
    {
      "cell_type": "code",
      "source": [
        "import math\n",
        "a = dir(math)\n",
        "print(a)"
      ],
      "metadata": {
        "colab": {
          "base_uri": "https://localhost:8080/"
        },
        "id": "F8cMnBoC5pmY",
        "outputId": "fa5e994f-c840-4537-ad1a-c4fef7930d4e"
      },
      "execution_count": 3,
      "outputs": [
        {
          "output_type": "stream",
          "name": "stdout",
          "text": [
            "['__doc__', '__loader__', '__name__', '__package__', '__spec__', 'acos', 'acosh', 'asin', 'asinh', 'atan', 'atan2', 'atanh', 'ceil', 'comb', 'copysign', 'cos', 'cosh', 'degrees', 'dist', 'e', 'erf', 'erfc', 'exp', 'expm1', 'fabs', 'factorial', 'floor', 'fmod', 'frexp', 'fsum', 'gamma', 'gcd', 'hypot', 'inf', 'isclose', 'isfinite', 'isinf', 'isnan', 'isqrt', 'lcm', 'ldexp', 'lgamma', 'log', 'log10', 'log1p', 'log2', 'modf', 'nan', 'nextafter', 'perm', 'pi', 'pow', 'prod', 'radians', 'remainder', 'sin', 'sinh', 'sqrt', 'tan', 'tanh', 'tau', 'trunc', 'ulp']\n"
          ]
        }
      ]
    },
    {
      "cell_type": "markdown",
      "source": [
        "# **Math Module**"
      ],
      "metadata": {
        "id": "7AORIrF47QzM"
      }
    },
    {
      "cell_type": "markdown",
      "source": [
        "**Math.Ceil**(12.3)    this will return the ceil of 12.3 will give 13 . answer will be in integer and round off"
      ],
      "metadata": {
        "id": "YCf77MuZ7iGR"
      }
    },
    {
      "cell_type": "code",
      "source": [
        "import math\n",
        "math.ceil(23.3)"
      ],
      "metadata": {
        "id": "l_oA_RQ57T1S"
      },
      "execution_count": null,
      "outputs": []
    },
    {
      "cell_type": "markdown",
      "source": [
        "Math.fabs()   this will return the absolute value of the number if number will be negative then it will give positive value"
      ],
      "metadata": {
        "id": "JBVNkvDt77JL"
      }
    },
    {
      "cell_type": "code",
      "source": [
        "x=-56\n",
        "print(math.fabs(x))\n"
      ],
      "metadata": {
        "colab": {
          "base_uri": "https://localhost:8080/"
        },
        "id": "TiEFfiKt8EJP",
        "outputId": "4aace8fc-30bb-4e45-df27-688bb57b553e"
      },
      "execution_count": 7,
      "outputs": [
        {
          "output_type": "stream",
          "name": "stdout",
          "text": [
            "56.0\n"
          ]
        }
      ]
    },
    {
      "cell_type": "code",
      "source": [
        "print(math.factorial(5))"
      ],
      "metadata": {
        "colab": {
          "base_uri": "https://localhost:8080/"
        },
        "id": "RKg8WZjR8UPw",
        "outputId": "186724d7-678a-470e-b8ee-b5252ffd6748"
      },
      "execution_count": 10,
      "outputs": [
        {
          "output_type": "stream",
          "name": "stdout",
          "text": [
            "120\n"
          ]
        }
      ]
    },
    {
      "cell_type": "markdown",
      "source": [
        "Math.Floor()   this will return the floor of the number in backward without decimal point."
      ],
      "metadata": {
        "id": "LVYKkSka8kgK"
      }
    },
    {
      "cell_type": "code",
      "source": [
        "print(math.floor(23.3))"
      ],
      "metadata": {
        "colab": {
          "base_uri": "https://localhost:8080/"
        },
        "id": "GXKsLIhA8wR8",
        "outputId": "60b37c22-8e9b-484b-808b-3b06068fe537"
      },
      "execution_count": 11,
      "outputs": [
        {
          "output_type": "stream",
          "name": "stdout",
          "text": [
            "23\n"
          ]
        }
      ]
    },
    {
      "cell_type": "markdown",
      "source": [
        "**MATH.FSUM(ITERABLE)**   this will return the sum of all the elements in the iterable or in list. values must be integer"
      ],
      "metadata": {
        "id": "ZOoSV5JN84Td"
      }
    },
    {
      "cell_type": "code",
      "source": [
        "l=[12,4,5,6]\n",
        "print(math.fsum(l))"
      ],
      "metadata": {
        "colab": {
          "base_uri": "https://localhost:8080/"
        },
        "id": "D0evudIe9D3I",
        "outputId": "0ccbbdea-2db9-4f9e-b42b-39f54789290d"
      },
      "execution_count": 12,
      "outputs": [
        {
          "output_type": "stream",
          "name": "stdout",
          "text": [
            "27.0\n"
          ]
        }
      ]
    },
    {
      "cell_type": "code",
      "source": [
        "print(math.sqrt(9))"
      ],
      "metadata": {
        "colab": {
          "base_uri": "https://localhost:8080/"
        },
        "id": "AoIP4iG39TOv",
        "outputId": "b8092297-8afd-4682-b883-65e5b8cec53a"
      },
      "execution_count": 13,
      "outputs": [
        {
          "output_type": "stream",
          "name": "stdout",
          "text": [
            "3.0\n"
          ]
        }
      ]
    },
    {
      "cell_type": "code",
      "source": [
        "print(math.pow(2,3))"
      ],
      "metadata": {
        "colab": {
          "base_uri": "https://localhost:8080/"
        },
        "id": "DINsxWEf9d5L",
        "outputId": "7e0854cf-090c-4f62-982f-3a83babe02ce"
      },
      "execution_count": 14,
      "outputs": [
        {
          "output_type": "stream",
          "name": "stdout",
          "text": [
            "8.0\n"
          ]
        }
      ]
    },
    {
      "cell_type": "code",
      "source": [
        "print(math.gcd(4,6))  # greatest common divisor"
      ],
      "metadata": {
        "colab": {
          "base_uri": "https://localhost:8080/"
        },
        "id": "bWh6iLZ79gjG",
        "outputId": "2d1e637c-1b45-4ac8-b3db-22abac45e048"
      },
      "execution_count": 15,
      "outputs": [
        {
          "output_type": "stream",
          "name": "stdout",
          "text": [
            "2\n"
          ]
        }
      ]
    },
    {
      "cell_type": "code",
      "source": [
        "print(math.log(5,2))"
      ],
      "metadata": {
        "colab": {
          "base_uri": "https://localhost:8080/"
        },
        "id": "xDkXhbNz9tqP",
        "outputId": "2641e316-eb12-411f-e6e4-589c988b2c0d"
      },
      "execution_count": 16,
      "outputs": [
        {
          "output_type": "stream",
          "name": "stdout",
          "text": [
            "2.321928094887362\n"
          ]
        }
      ]
    },
    {
      "cell_type": "code",
      "source": [
        "print(math.lcm(4,6))"
      ],
      "metadata": {
        "colab": {
          "base_uri": "https://localhost:8080/"
        },
        "id": "1kJpg3vO9wuf",
        "outputId": "7e7b416e-92e4-4c49-859a-2588ea693bdf"
      },
      "execution_count": 17,
      "outputs": [
        {
          "output_type": "stream",
          "name": "stdout",
          "text": [
            "12\n"
          ]
        }
      ]
    },
    {
      "cell_type": "code",
      "source": [
        "print(math.pi)"
      ],
      "metadata": {
        "colab": {
          "base_uri": "https://localhost:8080/"
        },
        "id": "WwGIDlhC925g",
        "outputId": "16db9a1a-e009-4a89-956d-b83a62b231e5"
      },
      "execution_count": 18,
      "outputs": [
        {
          "output_type": "stream",
          "name": "stdout",
          "text": [
            "3.141592653589793\n"
          ]
        }
      ]
    },
    {
      "cell_type": "code",
      "source": [
        "print(math.e)"
      ],
      "metadata": {
        "colab": {
          "base_uri": "https://localhost:8080/"
        },
        "id": "fcWQM7H0940H",
        "outputId": "eab56e48-158e-4356-fa54-eefdcc1dc42d"
      },
      "execution_count": 19,
      "outputs": [
        {
          "output_type": "stream",
          "name": "stdout",
          "text": [
            "2.718281828459045\n"
          ]
        }
      ]
    },
    {
      "cell_type": "code",
      "source": [
        "print(math.cos(1))"
      ],
      "metadata": {
        "colab": {
          "base_uri": "https://localhost:8080/"
        },
        "id": "E2OyTGIr98Q6",
        "outputId": "b5b35044-bde4-43a0-e985-f8adb759eed7"
      },
      "execution_count": 22,
      "outputs": [
        {
          "output_type": "stream",
          "name": "stdout",
          "text": [
            "0.5403023058681398\n"
          ]
        }
      ]
    }
  ]
}